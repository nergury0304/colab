{
  "nbformat": 4,
  "nbformat_minor": 0,
  "metadata": {
    "colab": {
      "provenance": [],
      "authorship_tag": "ABX9TyMoWkWos6H+LMtlDGj6IiOv",
      "include_colab_link": true
    },
    "kernelspec": {
      "name": "python3",
      "display_name": "Python 3"
    },
    "language_info": {
      "name": "python"
    }
  },
  "cells": [
    {
      "cell_type": "markdown",
      "metadata": {
        "id": "view-in-github",
        "colab_type": "text"
      },
      "source": [
        "<a href=\"https://colab.research.google.com/github/nergury0304/colab/blob/main/lession6.ipynb\" target=\"_parent\"><img src=\"https://colab.research.google.com/assets/colab-badge.svg\" alt=\"Open In Colab\"/></a>"
      ]
    },
    {
      "cell_type": "code",
      "execution_count": null,
      "metadata": {
        "id": "630zvaoWvEnL"
      },
      "outputs": [],
      "source": [
        "#방법1\n",
        "print(\"난생처음 파이썬은 즐겁다\")\n",
        "print(\"난생처음 파이썬은 즐겁다\")\n",
        "print(\"난생처음 파이썬은 즐겁다\")\n",
        "\n"
      ]
    },
    {
      "cell_type": "code",
      "source": [
        "#방법2\n",
        "for i in range(3) :\n",
        "  print(\"즐 겁 다\")"
      ],
      "metadata": {
        "colab": {
          "base_uri": "https://localhost:8080/"
        },
        "id": "ySv8x0Uevt3y",
        "outputId": "ac4b85fe-eb21-4a46-e621-e2a544aa1e56"
      },
      "execution_count": 1,
      "outputs": [
        {
          "output_type": "stream",
          "name": "stdout",
          "text": [
            "즐 겁 다\n",
            "즐 겁 다\n",
            "즐 겁 다\n"
          ]
        }
      ]
    },
    {
      "cell_type": "code",
      "source": [
        "myList = [\"해병\",\"공군\",\"육군\"]\n",
        "for i in myList:\n",
        "  print(i)"
      ],
      "metadata": {
        "colab": {
          "base_uri": "https://localhost:8080/"
        },
        "id": "8NwcePHWwYDZ",
        "outputId": "0994a600-029c-41be-e661-69f8c62bfc2a"
      },
      "execution_count": 3,
      "outputs": [
        {
          "output_type": "stream",
          "name": "stdout",
          "text": [
            "해병\n",
            "공군\n",
            "육군\n"
          ]
        }
      ]
    },
    {
      "cell_type": "code",
      "source": [
        "f = 1\n",
        "sum =0\n",
        "for i in range (1,100,2):\n",
        "  if f == 1 :\n",
        "    sum = sum + i\n",
        "    f = f * - 1\n",
        "  else:\n",
        "    sum = sum-i\n",
        "    f = f * - 1\n",
        "print(sum) "
      ],
      "metadata": {
        "colab": {
          "base_uri": "https://localhost:8080/"
        },
        "id": "CHUTgcHKwlSK",
        "outputId": "95459553-6f3a-4cdc-f58c-d8daec328482"
      },
      "execution_count": 13,
      "outputs": [
        {
          "output_type": "stream",
          "name": "stdout",
          "text": [
            "-50\n"
          ]
        }
      ]
    },
    {
      "cell_type": "code",
      "source": [
        "f=1\n",
        "fn=5\n",
        "for i in range(1,fn + 1,1):\n",
        "  f = f * i\n",
        "print(\"A,B,C,D,E 학생들을 기열 :\",f)"
      ],
      "metadata": {
        "colab": {
          "base_uri": "https://localhost:8080/"
        },
        "id": "SnsoF9_20_7i",
        "outputId": "ae5531cd-b082-4863-d495-c2f699372270"
      },
      "execution_count": 11,
      "outputs": [
        {
          "output_type": "stream",
          "name": "stdout",
          "text": [
            "A,B,C,D,E 학생들을 기열 : 120\n"
          ]
        }
      ]
    },
    {
      "cell_type": "code",
      "source": [
        "i,h=0,0\n",
        "\n",
        "for i in range(1001,2001,2):\n",
        "  h+=1\n",
        "print(\"1000에서 2000까지의 홀수 전우애 : \",h)"
      ],
      "metadata": {
        "colab": {
          "base_uri": "https://localhost:8080/"
        },
        "id": "rqfn2oXy2lqT",
        "outputId": "30e60da6-4fbe-4597-a51c-df1b21c8c72f"
      },
      "execution_count": 15,
      "outputs": [
        {
          "output_type": "stream",
          "name": "stdout",
          "text": [
            "1000에서 2000까지의 홀수 전우애 :  500\n"
          ]
        }
      ]
    },
    {
      "cell_type": "code",
      "source": [
        "for i in range(3):\n",
        "  for k in range(2):\n",
        "    print(\"(쎼끼 기열 i:\",i,\"k:\",k,\")\")\n"
      ],
      "metadata": {
        "colab": {
          "base_uri": "https://localhost:8080/"
        },
        "id": "nweOgtor3Ywj",
        "outputId": "92da24e6-81d6-4cf8-c7ab-64d8ea79a26c"
      },
      "execution_count": 21,
      "outputs": [
        {
          "output_type": "stream",
          "name": "stdout",
          "text": [
            "(쎼끼 기열 i: 0 k: 0 )\n",
            "(쎼끼 기열 i: 0 k: 1 )\n",
            "(쎼끼 기열 i: 1 k: 0 )\n",
            "(쎼끼 기열 i: 1 k: 1 )\n",
            "(쎼끼 기열 i: 2 k: 0 )\n",
            "(쎼끼 기열 i: 2 k: 1 )\n"
          ]
        }
      ]
    },
    {
      "cell_type": "code",
      "source": [],
      "metadata": {
        "id": "ZsRDS0DC4Utr"
      },
      "execution_count": null,
      "outputs": []
    }
  ]
}