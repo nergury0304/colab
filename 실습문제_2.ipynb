{
  "nbformat": 4,
  "nbformat_minor": 0,
  "metadata": {
    "colab": {
      "provenance": [],
      "authorship_tag": "ABX9TyPMFA6cOJ82Pt7b69KP9Vv9",
      "include_colab_link": true
    },
    "kernelspec": {
      "name": "python3",
      "display_name": "Python 3"
    },
    "language_info": {
      "name": "python"
    }
  },
  "cells": [
    {
      "cell_type": "markdown",
      "metadata": {
        "id": "view-in-github",
        "colab_type": "text"
      },
      "source": [
        "<a href=\"https://colab.research.google.com/github/nergury0304/colab/blob/main/%EC%8B%A4%EC%8A%B5%EB%AC%B8%EC%A0%9C_2.ipynb\" target=\"_parent\"><img src=\"https://colab.research.google.com/assets/colab-badge.svg\" alt=\"Open In Colab\"/></a>"
      ]
    },
    {
      "cell_type": "code",
      "execution_count": 11,
      "metadata": {
        "colab": {
          "base_uri": "https://localhost:8080/"
        },
        "id": "ewE4HGnWx7se",
        "outputId": "702bdadc-cf80-43c6-a99c-c6984a055072"
      },
      "outputs": [
        {
          "output_type": "stream",
          "name": "stdout",
          "text": [
            "문자열 입력 ==> 트와이스\n",
            "스이와트"
          ]
        }
      ],
      "source": [
        "text = input(\"문자열 입력 ==> \")\n",
        "\n",
        "i = len(text) - 1\n",
        "\n",
        "while i > -1:\n",
        "  print(text[i],end =\"\")\n",
        "  i = i - 1\n"
      ]
    }
  ]
}