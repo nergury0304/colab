{
  "nbformat": 4,
  "nbformat_minor": 0,
  "metadata": {
    "colab": {
      "provenance": [],
      "authorship_tag": "ABX9TyOrlDglA/xx3vOmHQ+9+LEu",
      "include_colab_link": true
    },
    "kernelspec": {
      "name": "python3",
      "display_name": "Python 3"
    },
    "language_info": {
      "name": "python"
    }
  },
  "cells": [
    {
      "cell_type": "markdown",
      "metadata": {
        "id": "view-in-github",
        "colab_type": "text"
      },
      "source": [
        "<a href=\"https://colab.research.google.com/github/nergury0304/colab/blob/main/%EC%8B%A4%EC%8A%B5%EB%AC%B8%EC%A0%9C_2.ipynb\" target=\"_parent\"><img src=\"https://colab.research.google.com/assets/colab-badge.svg\" alt=\"Open In Colab\"/></a>"
      ]
    },
    {
      "cell_type": "code",
      "execution_count": 1,
      "metadata": {
        "colab": {
          "base_uri": "https://localhost:8080/"
        },
        "id": "rcWbum0l7HBZ",
        "outputId": "be7e6abd-8b3d-42dd-f947-7e66a4cfb508"
      },
      "outputs": [
        {
          "output_type": "stream",
          "name": "stdout",
          "text": [
            "문자열 입력 ==> adasdas\n",
            "문자열 입력 ==> asdasdad\n",
            "-1\n"
          ]
        }
      ],
      "source": [
        "text1 = input(\"문자열 입력 ==> \")\n",
        "text2 = input(\"문자열 입력 ==> \")\n",
        "\n",
        "a = len(text1)\n",
        "b = len(text2)\n",
        "\n",
        "print(a-b)"
      ]
    }
  ]
}