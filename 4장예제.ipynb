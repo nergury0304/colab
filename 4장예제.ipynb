{
  "nbformat": 4,
  "nbformat_minor": 0,
  "metadata": {
    "colab": {
      "name": "4장예제.ipynb",
      "provenance": [],
      "authorship_tag": "ABX9TyNRYh69vjI/0AkgYEadGyXA",
      "include_colab_link": true
    },
    "kernelspec": {
      "name": "python3",
      "display_name": "Python 3"
    },
    "language_info": {
      "name": "python"
    }
  },
  "cells": [
    {
      "cell_type": "markdown",
      "metadata": {
        "id": "view-in-github",
        "colab_type": "text"
      },
      "source": [
        "<a href=\"https://colab.research.google.com/github/nergury0304/colab/blob/main/4%EC%9E%A5%EC%98%88%EC%A0%9C.ipynb\" target=\"_parent\"><img src=\"https://colab.research.google.com/assets/colab-badge.svg\" alt=\"Open In Colab\"/></a>"
      ]
    },
    {
      "cell_type": "code",
      "execution_count": 1,
      "metadata": {
        "colab": {
          "base_uri": "https://localhost:8080/"
        },
        "id": "VI20esIl1mku",
        "outputId": "8bf0d936-5593-48c0-db96-fbfcf29ec2e9"
      },
      "outputs": [
        {
          "output_type": "stream",
          "name": "stdout",
          "text": [
            "\n",
            " 줄바꿈 \n",
            " 연습\n",
            "\t 탭키 연습 \t\n",
            "어떤 글자를 \"강조\"하는 효과\n",
            "어떤 글자를 '강조'하는 효과\n",
            "\\\\ 백슬래시 2개 출력 효과\n"
          ]
        }
      ],
      "source": [
        "print(\"\\n 줄바꿈 \\n 연습\")\n",
        "print(\"\\t 탭키 연습 \\t\")\n",
        "print(\"어떤 글자를 \\\"강조\\\"하는 효과\")\n",
        "print(\"어떤 글자를 \\'강조\\'하는 효과\")\n",
        "print(\"\\\\\\\\ 백슬래시 2개 출력 효과\")"
      ]
    },
    {
      "cell_type": "code",
      "source": [
        "a=input(\"입력 \")\n",
        "b=input(\"2입력 \")\n",
        "c=len(a)\n",
        "d=len(b)\n",
        "print(\"길이의 차이 = \",c-d)"
      ],
      "metadata": {
        "colab": {
          "base_uri": "https://localhost:8080/"
        },
        "id": "Q4J6uJbZ42fv",
        "outputId": "a7cbbf28-c499-49a2-8adf-94e1940fbd5d"
      },
      "execution_count": 5,
      "outputs": [
        {
          "output_type": "stream",
          "name": "stdout",
          "text": [
            "입력 라이라이차차차\n",
            "2입력 황근출해병님 따흐흑\n",
            "길이의 차이 =  -3\n"
          ]
        }
      ]
    },
    {
      "cell_type": "code",
      "source": [
        "a=\"게이조이고\"\n",
        "print(a[4])\n",
        "print(a[3])\n",
        "print(a[2])\n",
        "print(a[1])\n",
        "print(a[0])"
      ],
      "metadata": {
        "colab": {
          "base_uri": "https://localhost:8080/"
        },
        "id": "Vfe9udG47IEF",
        "outputId": "9970ff93-4810-4ec9-968d-2a931f72efd1"
      },
      "execution_count": 8,
      "outputs": [
        {
          "output_type": "stream",
          "name": "stdout",
          "text": [
            "고\n",
            "이\n",
            "조\n",
            "이\n",
            "게\n"
          ]
        }
      ]
    }
  ]
}