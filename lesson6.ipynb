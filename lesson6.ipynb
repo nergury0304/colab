{
  "nbformat": 4,
  "nbformat_minor": 0,
  "metadata": {
    "colab": {
      "name": "lesson6.ipynb",
      "provenance": [],
      "authorship_tag": "ABX9TyN7fxsgNl3OtRm0+uoZawnd",
      "include_colab_link": true
    },
    "kernelspec": {
      "name": "python3",
      "display_name": "Python 3"
    },
    "language_info": {
      "name": "python"
    }
  },
  "cells": [
    {
      "cell_type": "markdown",
      "metadata": {
        "id": "view-in-github",
        "colab_type": "text"
      },
      "source": [
        "<a href=\"https://colab.research.google.com/github/nergury0304/colab/blob/main/lesson6.ipynb\" target=\"_parent\"><img src=\"https://colab.research.google.com/assets/colab-badge.svg\" alt=\"Open In Colab\"/></a>"
      ]
    },
    {
      "cell_type": "code",
      "execution_count": null,
      "metadata": {
        "id": "-gxBbVh-SFam"
      },
      "outputs": [],
      "source": [
        "a=int(input(\"A\"))\n",
        "if (num % 2) == 0 :\n",
        "  print(\"짝수\")\n",
        "else :\n",
        "  print(\"홀수\")\n",
        "  "
      ]
    },
    {
      "cell_type": "code",
      "source": [
        "import random\n",
        "\n",
        "r = random.randint(1.45)\n",
        "print(\"컴퓨터가 정하는 숫자 맞추기\")\n",
        "print(\"1부터 45까지\")\n",
        "user_number = \"\"\n",
        "\n",
        "while r != user_number :\n",
        "  user_number = int (input(\"숫자를 입력\"))\n",
        "  if r > user_number :\n",
        "    print(\"입력한 숫자가 작음\")\n",
        "  elif r < user_number:\n",
        "    print(\"입력숫자가 큼\")\n",
        "  else :\n",
        "    print(\"정답\")\n",
        "  \n",
        " "
      ],
      "metadata": {
        "id": "ibcok_ZxTznX"
      },
      "execution_count": null,
      "outputs": []
    },
    {
      "cell_type": "code",
      "source": [
        "import random\n",
        "c = random.choice([\"가위\",\"바위\",\"보\"])\n",
        "print(\"가위바위보 게임\")\n",
        "u = input(\"가위바위보중 하나 입력 = >\")\n",
        "count = 7\n",
        "while count > 0 :\n",
        "  u = input(\"가위바위보 중 하나 입력\")\n",
        "  if (c = u):\n",
        "    print(\"비김\")\n",
        "  elif ((c==\"가위\") and (u==\"바위\")) or \\\n",
        "   ((c == \"바위\") and (u== \" 보\")) or \\\n",
        "   ((c== \"보\") and ( u == \"가위\")):\n",
        "   print(\"이겼다\")\n",
        "  else:\n",
        "    print(\"졌다\")\n",
        "  \n"
      ],
      "metadata": {
        "colab": {
          "base_uri": "https://localhost:8080/"
        },
        "id": "schMA5hMYjUH",
        "outputId": "c7a21fc6-fd9e-4a67-b387-36dc266e422a"
      },
      "execution_count": 7,
      "outputs": [
        {
          "output_type": "stream",
          "name": "stdout",
          "text": [
            "가위바위보 게임\n",
            "가위바위보중 하나 입력 = >보\n",
            "바위 보\n"
          ]
        }
      ]
    }
  ]
}