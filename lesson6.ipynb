{
  "nbformat": 4,
  "nbformat_minor": 0,
  "metadata": {
    "colab": {
      "name": "lesson6.ipynb",
      "provenance": [],
      "authorship_tag": "ABX9TyMABxvBV03eZkA4BuBWDdPr",
      "include_colab_link": true
    },
    "kernelspec": {
      "name": "python3",
      "display_name": "Python 3"
    },
    "language_info": {
      "name": "python"
    }
  },
  "cells": [
    {
      "cell_type": "markdown",
      "metadata": {
        "id": "view-in-github",
        "colab_type": "text"
      },
      "source": [
        "<a href=\"https://colab.research.google.com/github/nergury0304/colab/blob/main/lesson6.ipynb\" target=\"_parent\"><img src=\"https://colab.research.google.com/assets/colab-badge.svg\" alt=\"Open In Colab\"/></a>"
      ]
    },
    {
      "cell_type": "code",
      "execution_count": null,
      "metadata": {
        "id": "-gxBbVh-SFam"
      },
      "outputs": [],
      "source": [
        "a=int(input(\"A\"))\n",
        "if (num % 2) == 0 :\n",
        "  print(\"짝수\")\n",
        "else :\n",
        "  print(\"홀수\")\n",
        "  "
      ]
    },
    {
      "cell_type": "code",
      "source": [
        "import random\n",
        "\n",
        "r = random.randint(1.45)\n",
        "print(\"컴퓨터가 정하는 숫자 맞추기\")\n",
        "print(\"1부터 45까지\")\n",
        "user_number = \"\"\n",
        "\n",
        "while r != user_number :\n",
        "  user_number = int (input(\"숫자를 입력\"))\n",
        "  if r > user_number :\n",
        "    print(\"입력한 숫자가 작음\")\n",
        "  elif r < user_number:\n",
        "    print(\"입력숫자가 큼\")\n",
        "  else :\n",
        "    print(\"정답\")\n",
        "  \n",
        " "
      ],
      "metadata": {
        "id": "ibcok_ZxTznX"
      },
      "execution_count": null,
      "outputs": []
    },
    {
      "cell_type": "code",
      "source": [
        "import random\n",
        "\n",
        "c = random.choice([\"가위\",\"바위\",\"보\"])\n",
        "print(\"가위바위보 게임\")\n",
        "u = input(\"가위바위보중 하나 입력 = >\")\n",
        "print(\"컴퓨터의 가이바위보\",c )\n",
        "  \n",
        "  if c == u:\n",
        "    print(\"비김\")\n",
        "\n",
        "  elif (c==\"가위\") and (u==\"바위\") or \\\n",
        "   (c == \"바위\") and (u== \" 보\") or \\\n",
        "   (c== \"보\") and ( u == \"가위\"):\n",
        "    print(\"이겼다\")\n",
        "  else:\n",
        "    print(\"졌다\")\n",
        "  \n"
      ],
      "metadata": {
        "id": "schMA5hMYjUH"
      },
      "execution_count": null,
      "outputs": []
    },
    {
      "cell_type": "code",
      "source": [
        "a=int(input(\"숫자 입력\"))\n",
        "if a>100:\n",
        " if a<1000:\n",
        "  print(\"100보다 크고 1000보다 작군요\")\n",
        " else : \n",
        "  print(\"와~ 1000보다 크군요\")\n",
        "else:\n",
        "  print(\"100보다 작군요\")"
      ],
      "metadata": {
        "id": "K_shqgJ6MEaS"
      },
      "execution_count": null,
      "outputs": []
    },
    {
      "cell_type": "code",
      "source": [
        "s = int(input(\"점수입력\"))\n",
        "\n",
        "if s >= 90:\n",
        "  print(\"A\",end = '')\n",
        "else :\n",
        "  if s >= 80:\n",
        "    print(\"B\",ens ='')\n",
        "  else :\n",
        "    if s>=70:\n",
        "      print(\"C\",end='')\n",
        "    else :\n",
        "      if s>=60:\n",
        "        print(\"D\",end='')\n",
        "      else :\n",
        "        print(\"F\",end='')\n",
        "print(\"학점\")"
      ],
      "metadata": {
        "id": "mu-qdeDJOHqD",
        "outputId": "821a7912-9e98-4b58-ab33-1e01ea29ccf4",
        "colab": {
          "base_uri": "https://localhost:8080/"
        }
      },
      "execution_count": 4,
      "outputs": [
        {
          "output_type": "stream",
          "name": "stdout",
          "text": [
            "점수입력75\n",
            "C학점\n"
          ]
        }
      ]
    },
    {
      "cell_type": "code",
      "source": [
        "s=int(input(\"점수\"))\n",
        "\n",
        "if s >=90:\n",
        "  print(\"A\",end='')\n",
        "elif s>=80:\n",
        "  print(\"B\",end='')\n",
        "elif s>=70:\n",
        "  print(\"C\",end='')\n",
        "elif s>=60:\n",
        "  print(\"D\",end='')\n",
        "else:\n",
        "  print(\"F\",end='')\n",
        "  print(\"학점입나다.\")\n",
        "  "
      ],
      "metadata": {
        "id": "4dMIeH4mPgvy",
        "outputId": "0b832b4c-f7d1-4364-fa1d-2287314d9d59",
        "colab": {
          "base_uri": "https://localhost:8080/"
        }
      },
      "execution_count": 5,
      "outputs": [
        {
          "output_type": "stream",
          "name": "stdout",
          "text": [
            "점수75\n",
            "C"
          ]
        }
      ]
    },
    {
      "cell_type": "code",
      "source": [
        "o=int(input(\"나이 입력\"))\n",
        "\n",
        "if 0 >= 18 : \n",
        "  print(\"즐거운 시간 되세요 ^^\")\n",
        "else :\n",
        "  print(\"고 뻑킹 홈\")\n",
        "print(\"뻑유\")"
      ],
      "metadata": {
        "id": "Mop9DiLrRock",
        "outputId": "a050c073-11dc-465f-f145-3142b1497974",
        "colab": {
          "base_uri": "https://localhost:8080/"
        }
      },
      "execution_count": 6,
      "outputs": [
        {
          "output_type": "stream",
          "name": "stdout",
          "text": [
            "나이 입력16\n",
            "고 뻑킹 홈\n",
            "뻑유\n"
          ]
        }
      ]
    },
    {
      "cell_type": "code",
      "source": [
        "#pip3 install ColabTurtle\n",
        "import ColabTurtle.Turtle as turtle\n",
        "import random\n",
        "print(turtle.DEFAULT_WINDOW_SIZE)\n",
        "turtle.initializeTurtle()\n",
        "\n",
        "while True:\n",
        "  turtle.left(random.randint(0.360))\n",
        "  turtle.color((random.randint(0.255),random.randint(0,255),random,randint(0.255),turtle.forward(random.randint(100.200)))\n",
        "  if 800 <= turtle.getx() or turtle.gety() <=0 or \\\n",
        "  500 <= turtle.getx() or turtle.getx() <=0:\n",
        "   turtle.goto(400.250)\n",
        "\n",
        "\n",
        "\n",
        "\n"
      ],
      "metadata": {
        "id": "sQYhE61pic4O",
        "outputId": "e10a2f9c-504c-4207-f183-8dae17e17dee",
        "colab": {
          "base_uri": "https://localhost:8080/",
          "height": 394
        }
      },
      "execution_count": 14,
      "outputs": [
        {
          "output_type": "error",
          "ename": "ModuleNotFoundError",
          "evalue": "ignored",
          "traceback": [
            "\u001b[0;31m---------------------------------------------------------------------------\u001b[0m",
            "\u001b[0;31mModuleNotFoundError\u001b[0m                       Traceback (most recent call last)",
            "\u001b[0;32m<ipython-input-14-81a26f465a46>\u001b[0m in \u001b[0;36m<module>\u001b[0;34m\u001b[0m\n\u001b[1;32m      1\u001b[0m \u001b[0;31m#pip3 install ColabTurtle\u001b[0m\u001b[0;34m\u001b[0m\u001b[0;34m\u001b[0m\u001b[0;34m\u001b[0m\u001b[0m\n\u001b[0;32m----> 2\u001b[0;31m \u001b[0;32mimport\u001b[0m \u001b[0mColabTurtle\u001b[0m\u001b[0;34m.\u001b[0m\u001b[0mTurtle\u001b[0m \u001b[0;32mas\u001b[0m \u001b[0mturtle\u001b[0m\u001b[0;34m\u001b[0m\u001b[0;34m\u001b[0m\u001b[0m\n\u001b[0m\u001b[1;32m      3\u001b[0m \u001b[0;32mimport\u001b[0m \u001b[0mrandom\u001b[0m\u001b[0;34m\u001b[0m\u001b[0;34m\u001b[0m\u001b[0m\n\u001b[1;32m      4\u001b[0m \u001b[0mprint\u001b[0m\u001b[0;34m(\u001b[0m\u001b[0mturtle\u001b[0m\u001b[0;34m.\u001b[0m\u001b[0mDEFAULT_WINDOW_SIZE\u001b[0m\u001b[0;34m)\u001b[0m\u001b[0;34m\u001b[0m\u001b[0;34m\u001b[0m\u001b[0m\n\u001b[1;32m      5\u001b[0m \u001b[0mturtle\u001b[0m\u001b[0;34m.\u001b[0m\u001b[0minitializeTurtle\u001b[0m\u001b[0;34m(\u001b[0m\u001b[0;34m)\u001b[0m\u001b[0;34m\u001b[0m\u001b[0;34m\u001b[0m\u001b[0m\n",
            "\u001b[0;31mModuleNotFoundError\u001b[0m: No module named 'ColabTurtle'",
            "",
            "\u001b[0;31m---------------------------------------------------------------------------\u001b[0;32m\nNOTE: If your import is failing due to a missing package, you can\nmanually install dependencies using either !pip or !apt.\n\nTo view examples of installing some common dependencies, click the\n\"Open Examples\" button below.\n\u001b[0;31m---------------------------------------------------------------------------\u001b[0m\n"
          ],
          "errorDetails": {
            "actions": [
              {
                "action": "open_url",
                "actionText": "Open Examples",
                "url": "/notebooks/snippets/importing_libraries.ipynb"
              }
            ]
          }
        }
      ]
    }
  ]
}