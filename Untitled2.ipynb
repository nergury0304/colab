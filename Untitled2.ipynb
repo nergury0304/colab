{
  "nbformat": 4,
  "nbformat_minor": 0,
  "metadata": {
    "colab": {
      "name": "Untitled2.ipynb",
      "provenance": [],
      "authorship_tag": "ABX9TyNVg5StaOeSAzy5Zk98RwVW",
      "include_colab_link": true
    },
    "kernelspec": {
      "name": "python3",
      "display_name": "Python 3"
    },
    "language_info": {
      "name": "python"
    }
  },
  "cells": [
    {
      "cell_type": "markdown",
      "metadata": {
        "id": "view-in-github",
        "colab_type": "text"
      },
      "source": [
        "<a href=\"https://colab.research.google.com/github/nergury0304/colab/blob/main/Untitled2.ipynb\" target=\"_parent\"><img src=\"https://colab.research.google.com/assets/colab-badge.svg\" alt=\"Open In Colab\"/></a>"
      ]
    },
    {
      "cell_type": "code",
      "execution_count": null,
      "metadata": {
        "colab": {
          "base_uri": "https://localhost:8080/"
        },
        "id": "knPkZUKR2v9Q",
        "outputId": "07977d7d-4b77-410c-aa4d-31762091671b"
      },
      "outputs": [
        {
          "output_type": "stream",
          "name": "stdout",
          "text": [
            "나눠지는수 ==12\n",
            "나누는 수 ==5\n",
            "12 을 5 (으)로 나눈 몫은 2 입니다.\n",
            "12 을 5 (으)로 나눈 나머지는 2 입니다.\n"
          ]
        }
      ],
      "source": [
        "num1 = int(input(\"나눠지는수 ==\"))\n",
        "num2 = int(input(\"나누는 수 ==\"))\n",
        "a=num1 // num2\n",
        "b=num1 % num2\n",
        "print(num1,\"을\",num2,\"(으)로 나눈 몫은\",a,\"입니다.\")\n",
        "print(num1,\"을\",num2,\"(으)로 나눈 나머지는\",b,\"입니다.\")"
      ]
    },
    {
      "cell_type": "code",
      "source": [
        "num1 = int(input(\"파운드 ==\"))\n",
        "a=num1 * 0.453592\n",
        "print(\"파운드\",num1,\"은\",a,\"킬로그램 입니다\")\n",
        "num2 = int(input(\"킬로그램 ==\"))\n",
        "b=num2 * 2.204623\n",
        "print(\"킬로그램\",num2,\"은\",b,\"파운드 입니다\")\n",
        "\n"
      ],
      "metadata": {
        "colab": {
          "base_uri": "https://localhost:8080/"
        },
        "id": "Iet0bJZD7RLg",
        "outputId": "09668abb-d381-4be0-b1d2-03a71251bdbe"
      },
      "execution_count": null,
      "outputs": [
        {
          "output_type": "stream",
          "name": "stdout",
          "text": [
            "파운드 ==75\n",
            "파운드 75 은 34.0194 입니다\n",
            "킬로그램 ==21\n",
            "킬로그램 21 은 46.29708300000001 입니다\n"
          ]
        }
      ]
    },
    {
      "cell_type": "code",
      "source": [
        "weight = float(input(\"몸무게 입력 ===\"))\n",
        "heigth = float(input(\"키 입력 ==\"))\n",
        "heigth = heigth * 0.01\n",
        "bmi = weight / (heigth * heigth)\n",
        "print(\"당신의 bmi :\",round(bmi,3))\n",
        "\n"
      ],
      "metadata": {
        "colab": {
          "base_uri": "https://localhost:8080/"
        },
        "id": "cbNP9NPF-IiO",
        "outputId": "ce6614fe-7e26-459a-d2d5-80519fe19d79"
      },
      "execution_count": null,
      "outputs": [
        {
          "output_type": "stream",
          "name": "stdout",
          "text": [
            "몸무게 입력 ===75\n",
            "키 입력 ==180\n",
            "당신의 bmi : 23.148\n"
          ]
        }
      ]
    },
    {
      "cell_type": "code",
      "source": [
        "total = 0\n",
        "total-=900 * 10\n",
        "total-=3500 * 5\n",
        "\n",
        "total+= 1800 * 2\n",
        "total+= 4000 * 4\n",
        "total+= 1500\n",
        "total+=2000 * 4\n",
        "total+=1800 * 5\n",
        "\n",
        "print (\"오늘 총 매출은\" ,total,\"원\")\n"
      ],
      "metadata": {
        "colab": {
          "base_uri": "https://localhost:8080/"
        },
        "id": "7Y3PneVrAT81",
        "outputId": "09ab5dbc-2709-4ab4-96b2-1bd8def365ed"
      },
      "execution_count": null,
      "outputs": [
        {
          "output_type": "stream",
          "name": "stdout",
          "text": [
            "오늘 총 매출은 11600 원\n"
          ]
        }
      ]
    },
    {
      "cell_type": "markdown",
      "source": [
        "비교연산자예제"
      ],
      "metadata": {
        "id": "_geWRzKKE3jp"
      }
    },
    {
      "cell_type": "code",
      "source": [
        "score = int(input(\"필기시험점수\"))\n",
        "print(score >= 70)"
      ],
      "metadata": {
        "colab": {
          "base_uri": "https://localhost:8080/"
        },
        "id": "-OBb_Br-E3WR",
        "outputId": "a3ab38fe-5b46-4d85-ccaa-6d3f346d0dce"
      },
      "execution_count": null,
      "outputs": [
        {
          "output_type": "stream",
          "name": "stdout",
          "text": [
            "필기시험점수40\n",
            "False\n"
          ]
        }
      ]
    },
    {
      "cell_type": "code",
      "source": [
        "python = 3\n",
        "modile = 2\n",
        "exeal = 1\n",
        "\n",
        "A=4.5\n",
        "A0= 4.0\n",
        "B = 3.5\n",
        "avg = ((python * B) + (modile * A0) + (exeal * A))/(python + modile + exeal)\n",
        "print(\"평균학점 :\",avg)"
      ],
      "metadata": {
        "colab": {
          "base_uri": "https://localhost:8080/"
        },
        "id": "3M2rXps4Gwvx",
        "outputId": "8dd6075e-b00d-4e5a-e770-965800a55b31"
      },
      "execution_count": null,
      "outputs": [
        {
          "output_type": "stream",
          "name": "stdout",
          "text": [
            "평균학점 : 3.8333333333333335\n"
          ]
        }
      ]
    },
    {
      "cell_type": "code",
      "source": [
        "#!pip3 install ColabTurtle\n",
        "import ColabTurtle.Turtle as turtle\n",
        "\n",
        "turtle.initializeTurtle()\n",
        "turtle.forward(50)\n",
        "turtle.left(90)\n",
        "turtle.forward(50)\n",
        "turtle.left(90)\n",
        "turtle.forward(50)\n",
        "turtle.left(90)\n",
        "turtle.forward(50)"
      ],
      "metadata": {
        "colab": {
          "base_uri": "https://localhost:8080/",
          "height": 521
        },
        "id": "Od6cuMa0J1Kv",
        "outputId": "4fce4bb2-fb6b-4678-a013-14044c19c8a5"
      },
      "execution_count": 16,
      "outputs": [
        {
          "output_type": "display_data",
          "data": {
            "text/plain": [
              "<IPython.core.display.HTML object>"
            ],
            "text/html": [
              "\n",
              "      <svg width=\"800\" height=\"500\">\n",
              "        <rect width=\"100%\" height=\"100%\" fill=\"black\"/>\n",
              "        <line x1=\"400\" y1=\"250\" x2=\"400.0\" y2=\"200.0\" stroke-linecap=\"round\" style=\"stroke:white;stroke-width:4\"/><line x1=\"400.0\" y1=\"200.0\" x2=\"350.0\" y2=\"200.0\" stroke-linecap=\"round\" style=\"stroke:white;stroke-width:4\"/><line x1=\"350.0\" y1=\"200.0\" x2=\"350.0\" y2=\"250.0\" stroke-linecap=\"round\" style=\"stroke:white;stroke-width:4\"/><line x1=\"350.0\" y1=\"250.0\" x2=\"400.0\" y2=\"250.0\" stroke-linecap=\"round\" style=\"stroke:white;stroke-width:4\"/>\n",
              "        <g visibility=visible transform=\"rotate(90,400.0,250.0) translate(382.0, 232.0)\">\n",
              "<path style=\" stroke:none;fill-rule:evenodd;fill:white;fill-opacity:1;\" d=\"M 18.214844 0.632812 C 16.109375 1.800781 15.011719 4.074219 15.074219 7.132812 L 15.085938 7.652344 L 14.785156 7.496094 C 13.476562 6.824219 11.957031 6.671875 10.40625 7.066406 C 8.46875 7.550781 6.515625 9.15625 4.394531 11.992188 C 3.0625 13.777344 2.679688 14.636719 3.042969 15.027344 L 3.15625 15.152344 L 3.519531 15.152344 C 4.238281 15.152344 4.828125 14.886719 8.1875 13.039062 C 9.386719 12.378906 10.371094 11.839844 10.378906 11.839844 C 10.386719 11.839844 10.355469 11.929688 10.304688 12.035156 C 9.832031 13.09375 9.257812 14.820312 8.96875 16.078125 C 7.914062 20.652344 8.617188 24.53125 11.070312 27.660156 C 11.351562 28.015625 11.363281 27.914062 10.972656 28.382812 C 8.925781 30.84375 7.945312 33.28125 8.238281 35.1875 C 8.289062 35.527344 8.28125 35.523438 8.917969 35.523438 C 10.941406 35.523438 13.074219 34.207031 15.136719 31.6875 C 15.359375 31.417969 15.328125 31.425781 15.5625 31.574219 C 16.292969 32.042969 18.023438 32.964844 18.175781 32.964844 C 18.335938 32.964844 19.941406 32.210938 20.828125 31.71875 C 20.996094 31.625 21.136719 31.554688 21.136719 31.558594 C 21.203125 31.664062 21.898438 32.414062 22.222656 32.730469 C 23.835938 34.300781 25.5625 35.132812 27.582031 35.300781 C 27.90625 35.328125 27.9375 35.308594 28.007812 34.984375 C 28.382812 33.242188 27.625 30.925781 25.863281 28.425781 L 25.542969 27.96875 L 25.699219 27.785156 C 28.945312 23.960938 29.132812 18.699219 26.257812 11.96875 L 26.207031 11.84375 L 27.945312 12.703125 C 31.53125 14.476562 32.316406 14.800781 33.03125 14.800781 C 33.976562 14.800781 33.78125 13.9375 32.472656 12.292969 C 28.519531 7.355469 25.394531 5.925781 21.921875 7.472656 L 21.558594 7.636719 L 21.578125 7.542969 C 21.699219 6.992188 21.761719 5.742188 21.699219 5.164062 C 21.496094 3.296875 20.664062 1.964844 19.003906 0.855469 C 18.480469 0.503906 18.457031 0.5 18.214844 0.632812\"/>\n",
              "</g>\n",
              "      </svg>\n",
              "    "
            ]
          },
          "metadata": {}
        }
      ]
    }
  ]
}