{
  "nbformat": 4,
  "nbformat_minor": 0,
  "metadata": {
    "colab": {
      "name": "mysecond.ipynb",
      "provenance": [],
      "authorship_tag": "ABX9TyP8Wr8fGYkJbDYuu8Tsd2Ew",
      "include_colab_link": true
    },
    "kernelspec": {
      "name": "python3",
      "display_name": "Python 3"
    },
    "language_info": {
      "name": "python"
    }
  },
  "cells": [
    {
      "cell_type": "markdown",
      "metadata": {
        "id": "view-in-github",
        "colab_type": "text"
      },
      "source": [
        "<a href=\"https://colab.research.google.com/github/nergury0304/colab/blob/main/mysecond.ipynb\" target=\"_parent\"><img src=\"https://colab.research.google.com/assets/colab-badge.svg\" alt=\"Open In Colab\"/></a>"
      ]
    },
    {
      "cell_type": "code",
      "execution_count": null,
      "metadata": {
        "id": "Jpx0V8ImQnhI"
      },
      "outputs": [],
      "source": [
        "print(\"두번째 파일 입니다.\")\n",
        "print(\"난생처음 파이썬을 공부하지만. 점점 익숙해지는것 같아요. : \")"
      ]
    }
  ]
}