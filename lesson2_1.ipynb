{
  "nbformat": 4,
  "nbformat_minor": 0,
  "metadata": {
    "colab": {
      "name": "lesson2-1.ipynb",
      "provenance": [],
      "authorship_tag": "ABX9TyNBQr+KOugmYnSADkOw2SYv",
      "include_colab_link": true
    },
    "kernelspec": {
      "name": "python3",
      "display_name": "Python 3"
    },
    "language_info": {
      "name": "python"
    }
  },
  "cells": [
    {
      "cell_type": "markdown",
      "metadata": {
        "id": "view-in-github",
        "colab_type": "text"
      },
      "source": [
        "<a href=\"https://colab.research.google.com/github/nergury0304/colab/blob/main/lesson2_1.ipynb\" target=\"_parent\"><img src=\"https://colab.research.google.com/assets/colab-badge.svg\" alt=\"Open In Colab\"/></a>"
      ]
    },
    {
      "cell_type": "code",
      "execution_count": 2,
      "metadata": {
        "colab": {
          "base_uri": "https://localhost:8080/"
        },
        "id": "5qsthZk7kXGj",
        "outputId": "463a76b0-02f1-4e99-b791-a766a9f63aed"
      },
      "outputs": [
        {
          "output_type": "stream",
          "name": "stdout",
          "text": [
            "100 + 200 = 300\n"
          ]
        }
      ],
      "source": [
        "a=100\n",
        "b=200\n",
        "c=a+b\n",
        "print(a,\"+\",b,\"=\",c)"
      ]
    },
    {
      "cell_type": "code",
      "source": [
        "num1=100\n",
        "num2=200\n",
        "result=num1-num2\n",
        "print(num1,\"-\",num2,\"=\",result)"
      ],
      "metadata": {
        "colab": {
          "base_uri": "https://localhost:8080/"
        },
        "id": "AasRqszIlaLl",
        "outputId": "91be72bf-5545-49ea-c4e1-566f9c092a63"
      },
      "execution_count": 4,
      "outputs": [
        {
          "output_type": "stream",
          "name": "stdout",
          "text": [
            "100 - 200 = -100\n"
          ]
        }
      ]
    },
    {
      "cell_type": "code",
      "source": [
        "num1=8\n",
        "num2=17\n",
        "result=num1*num2\n",
        "print(num1,\"*\",num2,\"=\",result)"
      ],
      "metadata": {
        "colab": {
          "base_uri": "https://localhost:8080/"
        },
        "id": "dcmtp3kSl-OE",
        "outputId": "410e98e3-62a2-4b2c-af16-9e82b5394355"
      },
      "execution_count": 5,
      "outputs": [
        {
          "output_type": "stream",
          "name": "stdout",
          "text": [
            "8 * 17 = 136\n"
          ]
        }
      ]
    },
    {
      "cell_type": "code",
      "source": [
        "num1=8\n",
        "num2=17\n",
        "result=num1/num2\n",
        "print(num1,\"/\",num2,\"=\",result)"
      ],
      "metadata": {
        "colab": {
          "base_uri": "https://localhost:8080/"
        },
        "id": "5t5em1MymTX1",
        "outputId": "1155d71a-c08c-46dc-dc6a-4a0f1d0a4264"
      },
      "execution_count": 6,
      "outputs": [
        {
          "output_type": "stream",
          "name": "stdout",
          "text": [
            "8 / 17 = 0.47058823529411764\n"
          ]
        }
      ]
    },
    {
      "cell_type": "markdown",
      "source": [
        "나머지 연산자 : //"
      ],
      "metadata": {
        "id": "MYLQkWt6nIB9"
      }
    },
    {
      "cell_type": "code",
      "source": [
        "num1,num2 = 4, 2\n",
        "result=num1%num2\n",
        "print(num1,\"%\",num2,\"=\",result)\n"
      ],
      "metadata": {
        "colab": {
          "base_uri": "https://localhost:8080/"
        },
        "id": "h0qUwMDtmoBd",
        "outputId": "d3555cf1-c948-4355-83e6-6de8c5a9756a"
      },
      "execution_count": 7,
      "outputs": [
        {
          "output_type": "stream",
          "name": "stdout",
          "text": [
            "4 % 2 = 0\n"
          ]
        }
      ]
    },
    {
      "cell_type": "markdown",
      "source": [
        "몫을 구하는 연산자://"
      ],
      "metadata": {
        "id": "K7kYjQYVnLl1"
      }
    },
    {
      "cell_type": "code",
      "source": [
        "num1,num2 = 4, 2\n",
        "result=num1//num2\n",
        "print(num1,\"//\",num2,\"=\",result)\n"
      ],
      "metadata": {
        "colab": {
          "base_uri": "https://localhost:8080/"
        },
        "id": "CqtUr_c3nSd1",
        "outputId": "b5ed3f38-96ec-4d5e-e1f7-11e00bdb23f4"
      },
      "execution_count": 8,
      "outputs": [
        {
          "output_type": "stream",
          "name": "stdout",
          "text": [
            "4 // 2 = 2\n"
          ]
        }
      ]
    },
    {
      "cell_type": "markdown",
      "source": [
        "문자열 연산자 : +,*"
      ],
      "metadata": {
        "id": "1kK58NLyn9M9"
      }
    },
    {
      "cell_type": "code",
      "source": [
        "str1 = \"안산공고\"\n",
        "str2= \"컴퓨터과\"\n",
        "result= str1+str2\n",
        "print(str1\"+\"str2\"=\"result)"
      ],
      "metadata": {
        "colab": {
          "base_uri": "https://localhost:8080/"
        },
        "id": "Jq-eNwson85N",
        "outputId": "28206123-90a5-4daa-bbdb-8393add0a774"
      },
      "execution_count": 13,
      "outputs": [
        {
          "output_type": "stream",
          "name": "stdout",
          "text": [
            "안산공고 + 컴퓨터과 = 안산공고안산공고안산공고\n"
          ]
        }
      ]
    },
    {
      "cell_type": "code",
      "source": [
        "str1 = \"안산공고\"\n",
        "result= str1*3\n",
        "print(str1,\"*\",str2,\"=\",result)"
      ],
      "metadata": {
        "colab": {
          "base_uri": "https://localhost:8080/"
        },
        "id": "pPE2wOy5o1PN",
        "outputId": "972168aa-b9df-451a-8dad-8853989b617e"
      },
      "execution_count": 14,
      "outputs": [
        {
          "output_type": "stream",
          "name": "stdout",
          "text": [
            "안산공고 * 컴퓨터과 = 안산공고안산공고안산공고\n"
          ]
        }
      ]
    },
    {
      "cell_type": "code",
      "source": [
        "a,b=100,200\n",
        "sum=a+b\n",
        "sum2=a-b\n",
        "sum3=a*b\n",
        "sum4=a/b\n",
        "print(a,\"+\",b,\"=\",sum)\n",
        "print(a,\"-\",b,\"=\",sum2)\n",
        "print(a,\"*\",b,\"=\",sum3)\n",
        "print(a,\"/\",b,\"=\",sum4)"
      ],
      "metadata": {
        "colab": {
          "base_uri": "https://localhost:8080/"
        },
        "id": "WfwJItrrpdzk",
        "outputId": "4f631656-66ae-4de5-8161-73da7fe36899"
      },
      "execution_count": 15,
      "outputs": [
        {
          "output_type": "stream",
          "name": "stdout",
          "text": [
            "100 + 200 = 300\n",
            "100 - 200 = -100\n",
            "100 * 200 = 20000\n",
            "100 / 200 = 0.5\n"
          ]
        }
      ]
    },
    {
      "cell_type": "code",
      "source": [
        "num1=int(input(\"숫자입력==>\"))\n",
        "num2=int(input(\"2숫자입력==>\"))\n",
        "result=num1+num2\n",
        "print(num1,\"+\",num2,\"+\",result)\n",
        "\n"
      ],
      "metadata": {
        "colab": {
          "base_uri": "https://localhost:8080/"
        },
        "id": "C5QdcQxor5GQ",
        "outputId": "c76962f8-43a9-41d4-d469-fde98347f8ce"
      },
      "execution_count": 17,
      "outputs": [
        {
          "output_type": "stream",
          "name": "stdout",
          "text": [
            "숫자입력==>5\n",
            "2숫자입력==>7\n",
            "5 + 7 + 12\n"
          ]
        }
      ]
    },
    {
      "cell_type": "code",
      "source": [
        "num1 = input(\"이름==>\")\n",
        "num2 = input(\"전화번호==>\")\n",
        "print(\"이름\",num1,\"연락처\",num2)"
      ],
      "metadata": {
        "colab": {
          "base_uri": "https://localhost:8080/"
        },
        "id": "rL8K6kLtteU0",
        "outputId": "773bc116-c710-4143-d7b3-9cc2146ced13"
      },
      "execution_count": 24,
      "outputs": [
        {
          "output_type": "stream",
          "name": "stdout",
          "text": [
            "이름==>123\n",
            "전화번호==>123\n",
            "이름 123 연락처 123\n"
          ]
        }
      ]
    },
    {
      "cell_type": "code",
      "source": [
        "print(\"##택배를 보내기 위한 정보를 입력하세요##\")\n",
        "name = input(\"이름 : \")\n",
        "addr = input(\"주소 : \")\n",
        "wei = int(input(\"무게(g) : \"))\n",
        "print(\"**받는사람==>\",name)\n",
        "print(\"**주소==>\",addr)\n",
        "print(\"**배송비==>\",wei*5,\"원\")\n",
        "\n"
      ],
      "metadata": {
        "colab": {
          "base_uri": "https://localhost:8080/"
        },
        "id": "Hfbh0actvStr",
        "outputId": "d0ea90e3-fdd5-498a-a939-67ab53d706fd"
      },
      "execution_count": 23,
      "outputs": [
        {
          "output_type": "stream",
          "name": "stdout",
          "text": [
            "##택배를 보내기 위한 정보를 입력하세요##\n",
            "이름 : 123\n",
            "주소 : 123\n",
            "무게(g) : 333\n",
            "**받는사람==> 123\n",
            "**주소==> 123\n",
            "**배송비==> 1665 원\n"
          ]
        }
      ]
    },
    {
      "cell_type": "code",
      "source": [
        "a = int(input(\"숫자1 = \"))\n",
        "b = int(input(\"숫자2 = \"))\n",
        "sum=a+b\n",
        "sum2=a-b\n",
        "sum3=a*b\n",
        "sum4=a/b\n",
        "sum5=a%b\n",
        "sum6=a**b\n",
        "print(a,\"+\",b,\"=\",sum)\n",
        "print(a,\"-\",b,\"=\",sum2)\n",
        "print(a,\"*\",b,\"=\",sum3)\n",
        "print(a,\"/\",b,\"=\",sum4)\n",
        "print(a,\"%\",b,\"=\",sum5)\n",
        "print(a,\"**\",b,\"=\",sum6)\n"
      ],
      "metadata": {
        "colab": {
          "base_uri": "https://localhost:8080/"
        },
        "id": "i81r9on_w04s",
        "outputId": "e8d1bce2-c7aa-453d-fbf9-53f4b68c8bf8"
      },
      "execution_count": 28,
      "outputs": [
        {
          "output_type": "stream",
          "name": "stdout",
          "text": [
            "숫자1 = 100\n",
            "숫자2 = 10\n",
            "100 + 10 = 110\n",
            "100 - 10 = 90\n",
            "100 * 10 = 1000\n",
            "100 / 10 = 10.0\n",
            "100 % 10 = 0\n",
            "100 ** 10 = 100000000000000000000\n"
          ]
        }
      ]
    },
    {
      "cell_type": "code",
      "source": [
        "#!pip3 install ColabTurtle\n",
        "import ColabTurtle.Turtle as turtle\n",
        "\n",
        "turtle.initializeTurtle()\n",
        "turtle.forward(50)\n",
        "turtle.left(90)\n",
        "turtle.forward(50)\n",
        "turtle.left(90)\n",
        "turtle.forward(50)\n",
        "turtle.left(90)\n",
        "turtle.forward(50)"
      ],
      "metadata": {
        "colab": {
          "base_uri": "https://localhost:8080/",
          "height": 521
        },
        "id": "yyG_f5uazSJD",
        "outputId": "79035cea-4cf6-4fff-c71d-fab7d48a1c18"
      },
      "execution_count": 43,
      "outputs": [
        {
          "output_type": "display_data",
          "data": {
            "text/plain": [
              "<IPython.core.display.HTML object>"
            ],
            "text/html": [
              "\n",
              "      <svg width=\"800\" height=\"500\">\n",
              "        <rect width=\"100%\" height=\"100%\" fill=\"black\"/>\n",
              "        <line x1=\"400\" y1=\"250\" x2=\"400.0\" y2=\"200.0\" stroke-linecap=\"round\" style=\"stroke:white;stroke-width:4\"/><line x1=\"400.0\" y1=\"200.0\" x2=\"350.0\" y2=\"200.0\" stroke-linecap=\"round\" style=\"stroke:white;stroke-width:4\"/><line x1=\"350.0\" y1=\"200.0\" x2=\"350.0\" y2=\"250.0\" stroke-linecap=\"round\" style=\"stroke:white;stroke-width:4\"/><line x1=\"350.0\" y1=\"250.0\" x2=\"400.0\" y2=\"250.0\" stroke-linecap=\"round\" style=\"stroke:white;stroke-width:4\"/>\n",
              "        <g visibility=visible transform=\"rotate(90,400.0,250.0) translate(382.0, 232.0)\">\n",
              "<path style=\" stroke:none;fill-rule:evenodd;fill:white;fill-opacity:1;\" d=\"M 18.214844 0.632812 C 16.109375 1.800781 15.011719 4.074219 15.074219 7.132812 L 15.085938 7.652344 L 14.785156 7.496094 C 13.476562 6.824219 11.957031 6.671875 10.40625 7.066406 C 8.46875 7.550781 6.515625 9.15625 4.394531 11.992188 C 3.0625 13.777344 2.679688 14.636719 3.042969 15.027344 L 3.15625 15.152344 L 3.519531 15.152344 C 4.238281 15.152344 4.828125 14.886719 8.1875 13.039062 C 9.386719 12.378906 10.371094 11.839844 10.378906 11.839844 C 10.386719 11.839844 10.355469 11.929688 10.304688 12.035156 C 9.832031 13.09375 9.257812 14.820312 8.96875 16.078125 C 7.914062 20.652344 8.617188 24.53125 11.070312 27.660156 C 11.351562 28.015625 11.363281 27.914062 10.972656 28.382812 C 8.925781 30.84375 7.945312 33.28125 8.238281 35.1875 C 8.289062 35.527344 8.28125 35.523438 8.917969 35.523438 C 10.941406 35.523438 13.074219 34.207031 15.136719 31.6875 C 15.359375 31.417969 15.328125 31.425781 15.5625 31.574219 C 16.292969 32.042969 18.023438 32.964844 18.175781 32.964844 C 18.335938 32.964844 19.941406 32.210938 20.828125 31.71875 C 20.996094 31.625 21.136719 31.554688 21.136719 31.558594 C 21.203125 31.664062 21.898438 32.414062 22.222656 32.730469 C 23.835938 34.300781 25.5625 35.132812 27.582031 35.300781 C 27.90625 35.328125 27.9375 35.308594 28.007812 34.984375 C 28.382812 33.242188 27.625 30.925781 25.863281 28.425781 L 25.542969 27.96875 L 25.699219 27.785156 C 28.945312 23.960938 29.132812 18.699219 26.257812 11.96875 L 26.207031 11.84375 L 27.945312 12.703125 C 31.53125 14.476562 32.316406 14.800781 33.03125 14.800781 C 33.976562 14.800781 33.78125 13.9375 32.472656 12.292969 C 28.519531 7.355469 25.394531 5.925781 21.921875 7.472656 L 21.558594 7.636719 L 21.578125 7.542969 C 21.699219 6.992188 21.761719 5.742188 21.699219 5.164062 C 21.496094 3.296875 20.664062 1.964844 19.003906 0.855469 C 18.480469 0.503906 18.457031 0.5 18.214844 0.632812\"/>\n",
              "</g>\n",
              "      </svg>\n",
              "    "
            ]
          },
          "metadata": {}
        }
      ]
    }
  ]
}