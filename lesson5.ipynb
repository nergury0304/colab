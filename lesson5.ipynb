{
  "nbformat": 4,
  "nbformat_minor": 0,
  "metadata": {
    "colab": {
      "name": "lesson5.ipynb",
      "provenance": [],
      "authorship_tag": "ABX9TyNGK+xIbiQH62QhwStWFsUw",
      "include_colab_link": true
    },
    "kernelspec": {
      "name": "python3",
      "display_name": "Python 3"
    },
    "language_info": {
      "name": "python"
    }
  },
  "cells": [
    {
      "cell_type": "markdown",
      "metadata": {
        "id": "view-in-github",
        "colab_type": "text"
      },
      "source": [
        "<a href=\"https://colab.research.google.com/github/nergury0304/colab/blob/main/lesson5.ipynb\" target=\"_parent\"><img src=\"https://colab.research.google.com/assets/colab-badge.svg\" alt=\"Open In Colab\"/></a>"
      ]
    },
    {
      "cell_type": "markdown",
      "source": [
        "조건문"
      ],
      "metadata": {
        "id": "A9_UGApwQNUx"
      }
    },
    {
      "cell_type": "code",
      "execution_count": null,
      "metadata": {
        "id": "CrtK4fqfQKv8"
      },
      "outputs": [],
      "source": [
        "num = 99\n",
        "if num < 100 :\n",
        "  print(\"100보다 작음.\")"
      ]
    },
    {
      "cell_type": "code",
      "source": [
        "a = int(input(\"a\"))\n",
        "if a%2 == 0 :\n",
        "  print(\"짝수\")\n",
        "else :\n",
        "  print(\"홀수\")\n"
      ],
      "metadata": {
        "colab": {
          "base_uri": "https://localhost:8080/"
        },
        "id": "qF9ubeH8Q--R",
        "outputId": "8aeb6986-9184-4802-8a05-0a92119a22c3"
      },
      "execution_count": 2,
      "outputs": [
        {
          "output_type": "stream",
          "name": "stdout",
          "text": [
            "a12\n",
            "짝수\n"
          ]
        }
      ]
    }
  ]
}