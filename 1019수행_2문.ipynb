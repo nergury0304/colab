{
  "nbformat": 4,
  "nbformat_minor": 0,
  "metadata": {
    "colab": {
      "provenance": [],
      "authorship_tag": "ABX9TyNwnZmmtZ90hWBYAwV12ur8",
      "include_colab_link": true
    },
    "kernelspec": {
      "name": "python3",
      "display_name": "Python 3"
    },
    "language_info": {
      "name": "python"
    }
  },
  "cells": [
    {
      "cell_type": "markdown",
      "metadata": {
        "id": "view-in-github",
        "colab_type": "text"
      },
      "source": [
        "<a href=\"https://colab.research.google.com/github/nergury0304/colab/blob/main/1019%EC%88%98%ED%96%89_2%EB%AC%B8.ipynb\" target=\"_parent\"><img src=\"https://colab.research.google.com/assets/colab-badge.svg\" alt=\"Open In Colab\"/></a>"
      ]
    },
    {
      "cell_type": "code",
      "execution_count": 2,
      "metadata": {
        "colab": {
          "base_uri": "https://localhost:8080/"
        },
        "id": "r-arXpTLBE8i",
        "outputId": "db113df2-4334-4592-d878-e5dc45efa842"
      },
      "outputs": [
        {
          "output_type": "stream",
          "name": "stdout",
          "text": [
            "숫자를 입력200\n",
            "100보다 크고 1000보다 작음\n"
          ]
        }
      ],
      "source": [
        "num = int(input(\"숫자를 입력\"))\n",
        "\n",
        "if num<100:\n",
        "  print(\"100보다 작음\")\n",
        "elif (num>100) and (num<1000) :\n",
        "  print(\"100보다 크고 1000보다 작음\")\n",
        "else :\n",
        "  print(\"1000보다 크다\")"
      ]
    }
  ]
}