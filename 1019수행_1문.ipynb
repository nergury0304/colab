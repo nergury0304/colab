{
  "nbformat": 4,
  "nbformat_minor": 0,
  "metadata": {
    "colab": {
      "provenance": [],
      "authorship_tag": "ABX9TyNHA72XZ4IcGz8OMWU1nSX5",
      "include_colab_link": true
    },
    "kernelspec": {
      "name": "python3",
      "display_name": "Python 3"
    },
    "language_info": {
      "name": "python"
    }
  },
  "cells": [
    {
      "cell_type": "markdown",
      "metadata": {
        "id": "view-in-github",
        "colab_type": "text"
      },
      "source": [
        "<a href=\"https://colab.research.google.com/github/nergury0304/colab/blob/main/1019%EC%88%98%ED%96%89_1%EB%AC%B8.ipynb\" target=\"_parent\"><img src=\"https://colab.research.google.com/assets/colab-badge.svg\" alt=\"Open In Colab\"/></a>"
      ]
    },
    {
      "cell_type": "code",
      "execution_count": 4,
      "metadata": {
        "colab": {
          "base_uri": "https://localhost:8080/"
        },
        "id": "85O8YO4q_MkV",
        "outputId": "b659bafa-8b1a-4924-8caa-832508555a16"
      },
      "outputs": [
        {
          "output_type": "stream",
          "name": "stdout",
          "text": [
            "숫자를 입력13\n",
            "홀수입니다\n"
          ]
        }
      ],
      "source": [
        "num = int(input(\"숫자를 입력\"))\n",
        "\n",
        "if num % 2 == 0:\n",
        "  print(\"짝수입니다\")\n",
        "else:\n",
        "  print(\"홀수입니다\")"
      ]
    }
  ]
}