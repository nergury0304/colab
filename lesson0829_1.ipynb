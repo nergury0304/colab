{
  "nbformat": 4,
  "nbformat_minor": 0,
  "metadata": {
    "colab": {
      "name": "lesson0829 1.ipynb",
      "provenance": [],
      "authorship_tag": "ABX9TyPR5jy9eCnAIW6+OhsQh86z",
      "include_colab_link": true
    },
    "kernelspec": {
      "name": "python3",
      "display_name": "Python 3"
    },
    "language_info": {
      "name": "python"
    }
  },
  "cells": [
    {
      "cell_type": "markdown",
      "metadata": {
        "id": "view-in-github",
        "colab_type": "text"
      },
      "source": [
        "<a href=\"https://colab.research.google.com/github/nergury0304/colab/blob/main/lesson0829_1.ipynb\" target=\"_parent\"><img src=\"https://colab.research.google.com/assets/colab-badge.svg\" alt=\"Open In Colab\"/></a>"
      ]
    },
    {
      "cell_type": "code",
      "execution_count": 17,
      "metadata": {
        "colab": {
          "base_uri": "https://localhost:8080/",
          "height": 131
        },
        "id": "VD3D62kgHorF",
        "outputId": "88964d48-112d-4d74-d168-15b3d87f337c"
      },
      "outputs": [
        {
          "output_type": "error",
          "ename": "IndentationError",
          "evalue": "ignored",
          "traceback": [
            "\u001b[0;36m  File \u001b[0;32m\"<ipython-input-17-41d7097f656c>\"\u001b[0;36m, line \u001b[0;32m6\u001b[0m\n\u001b[0;31m    x=int(input(\"x 위치 ==> \"))\u001b[0m\n\u001b[0m    ^\u001b[0m\n\u001b[0;31mIndentationError\u001b[0m\u001b[0;31m:\u001b[0m unexpected indent\n"
          ]
        }
      ],
      "source": [
        "#!pip3 install ColabTurtle\n",
        "import ColabTurtle.Turtle as turtle\n",
        "\n",
        "turtle.initializeTurtle()\n",
        "while Ture : \n",
        "  x=int(input(\"x 위치 ==> \"))\n",
        "  y = int(input(\"Y 위치 ==> \"))\n",
        "  text = input(\"쓰고싶은 글자 ==> \")\n",
        "  turtle.penup\n",
        "  turtle.goto(x,y)\n",
        "  turtle.write(Text)\n"
      ]
    }
  ]
}