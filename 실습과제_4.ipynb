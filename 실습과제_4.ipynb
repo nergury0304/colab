{
  "nbformat": 4,
  "nbformat_minor": 0,
  "metadata": {
    "colab": {
      "provenance": [],
      "authorship_tag": "ABX9TyNz5pi9jiuEi7zv+Qh5EO84",
      "include_colab_link": true
    },
    "kernelspec": {
      "name": "python3",
      "display_name": "Python 3"
    },
    "language_info": {
      "name": "python"
    }
  },
  "cells": [
    {
      "cell_type": "markdown",
      "metadata": {
        "id": "view-in-github",
        "colab_type": "text"
      },
      "source": [
        "<a href=\"https://colab.research.google.com/github/nergury0304/colab/blob/main/%EC%8B%A4%EC%8A%B5%EA%B3%BC%EC%A0%9C_4.ipynb\" target=\"_parent\"><img src=\"https://colab.research.google.com/assets/colab-badge.svg\" alt=\"Open In Colab\"/></a>"
      ]
    },
    {
      "cell_type": "code",
      "execution_count": 10,
      "metadata": {
        "colab": {
          "base_uri": "https://localhost:8080/"
        },
        "id": "aPJrNWgs8igM",
        "outputId": "0564753d-3793-483e-b7b6-845c376fb636"
      },
      "outputs": [
        {
          "output_type": "stream",
          "name": "stdout",
          "text": [
            "파운드 입력15\n",
            "15 파운드는 6.8038799999999995 킬로그램입니다\n",
            "킬로그램 입력15\n",
            "15 킬로그램은 33.069345000000006 파운드입니다\n"
          ]
        }
      ],
      "source": [
        "ib = int(input(\"파운드 입력\"))\n",
        "\n",
        "ibkg = ib * 0.453592\n",
        "\n",
        "print(ib,\"파운드는\",ibkg,\"킬로그램입니다\")\n",
        "\n",
        "kg = int(input(\"킬로그램 입력\"))\n",
        "\n",
        "kgib = kg * 2.204623\n",
        "\n",
        "print(kg,\"킬로그램은\",kgib,\"파운드입니다\")"
      ]
    }
  ]
}