{
  "nbformat": 4,
  "nbformat_minor": 0,
  "metadata": {
    "colab": {
      "name": "lesson1.ipynb",
      "provenance": [],
      "authorship_tag": "ABX9TyPyonHAljJYEJAPt7UIWDCu",
      "include_colab_link": true
    },
    "kernelspec": {
      "name": "python3",
      "display_name": "Python 3"
    },
    "language_info": {
      "name": "python"
    }
  },
  "cells": [
    {
      "cell_type": "markdown",
      "metadata": {
        "id": "view-in-github",
        "colab_type": "text"
      },
      "source": [
        "<a href=\"https://colab.research.google.com/github/nergury0304/colab/blob/main/lesson1.ipynb\" target=\"_parent\"><img src=\"https://colab.research.google.com/assets/colab-badge.svg\" alt=\"Open In Colab\"/></a>"
      ]
    },
    {
      "cell_type": "code",
      "source": [
        "print(\"난생처음 파이썬을\")\n",
        "print(\"열심히 공부 중입니다\")\n",
        "print(\"이젠 저도 파이썬 프로그래머입니다 ^^\")"
      ],
      "metadata": {
        "id": "LpY2je_qGnbO"
      },
      "execution_count": null,
      "outputs": []
    },
    {
      "cell_type": "markdown",
      "source": [
        "#파이썬 시작하기\n",
        "\n",
        "*   프로그램\n",
        " * 컴퓨터와 스마트폰에 들어 있는 많은 소프트웨어, 유튜브, 메시지, 전화, 카카오톡 등\n",
        " * 프로그램, 소프트웨어, 애플리케이션, 앱, 응용 프로그램 모두 동일한 용어입니다\n",
        "* 프로그래밍\n",
        " * 프로그램을 만드는 작업\n",
        "* 프로그래밍 언어\n",
        " * 사람이 이해하는 말을 언어라고 부르듯이 컴퓨터가 이해하는 언어를 의미함\n",
        "*프로그래머\n",
        " * 프로그래밍 언어를 사용하여 소프트웨어나 앱을 만드는 직업을 가진 사람을 의미"
      ],
      "metadata": {
        "id": "o-dnEzIQGn5-"
      }
    }
  ]
}