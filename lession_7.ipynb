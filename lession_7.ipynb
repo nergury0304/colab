{
  "nbformat": 4,
  "nbformat_minor": 0,
  "metadata": {
    "colab": {
      "provenance": [],
      "authorship_tag": "ABX9TyNDupP8vVfrXxI7xCn4yL2R",
      "include_colab_link": true
    },
    "kernelspec": {
      "name": "python3",
      "display_name": "Python 3"
    },
    "language_info": {
      "name": "python"
    }
  },
  "cells": [
    {
      "cell_type": "markdown",
      "metadata": {
        "id": "view-in-github",
        "colab_type": "text"
      },
      "source": [
        "<a href=\"https://colab.research.google.com/github/nergury0304/colab/blob/main/lession_7.ipynb\" target=\"_parent\"><img src=\"https://colab.research.google.com/assets/colab-badge.svg\" alt=\"Open In Colab\"/></a>"
      ]
    },
    {
      "cell_type": "code",
      "execution_count": 2,
      "metadata": {
        "colab": {
          "base_uri": "https://localhost:8080/"
        },
        "id": "zGYpyuaIpqtm",
        "outputId": "195f16e3-8ff0-40dc-fd15-62dba8fa1e62"
      },
      "outputs": [
        {
          "output_type": "stream",
          "name": "stdout",
          "text": [
            "오늘의 개소리 ==> 히어로즈오브더스톰\n"
          ]
        }
      ],
      "source": [
        "import random\n",
        "\n",
        "say = [\"시공의폭풍\",\"히오스\",\"히어로즈오브더스톰\"]\n",
        "today = random.randint(0,len(say)-1)\n",
        "print(\"오늘의 개소리 ==>\",say[today])"
      ]
    },
    {
      "cell_type": "code",
      "source": [
        "numlist = [[1,2,3,4],[5,6,7,8,],[9,10,11,12]]\n",
        "\n",
        "for i in range(0,3):\n",
        " for k in range(0,4):\n",
        "   print(\" \",numlist[i][k],end='')\n",
        " print(\"\")"
      ],
      "metadata": {
        "colab": {
          "base_uri": "https://localhost:8080/"
        },
        "id": "DMLF3vhW60Xi",
        "outputId": "05fbd420-63ed-40c4-a92a-484dbcea534c"
      },
      "execution_count": 3,
      "outputs": [
        {
          "output_type": "stream",
          "name": "stdout",
          "text": [
            "  1  2  3  4\n",
            "  5  6  7  8\n",
            "  9  10  11  12\n"
          ]
        }
      ]
    },
    {
      "cell_type": "code",
      "source": [
        "print(\"경기점수합계\")\n",
        "\n",
        "sco = []\n",
        "for i in range(5):\n",
        "  humsu = int(input(\"평균 점수 = \"))\n",
        "  sco.append(jumsu)\n",
        "\n",
        "hap = 0 \n",
        "for i in range(5):\n",
        "  hap+=sco[i]\n",
        "avg = hap / 5\n",
        "print(\"심사위원 평균 점수 : \",avg)\n"
      ],
      "metadata": {
        "id": "h1DKtkaD8up9"
      },
      "execution_count": null,
      "outputs": []
    },
    {
      "cell_type": "code",
      "source": [
        "toss = []\n",
        "\n",
        "for i in range(10000):\n",
        "  comA = random.choice([\"가위\",\"바위\",\"보\"])\n",
        "  comB = random.choice([\"가위\",\"바위\",\"보\"])\n",
        "\n",
        "  if (comA==comB):\n",
        "    toss.append(\"비김\")\n",
        "  elif (comA==\"가위\") and (comB == \"보\") or \\\n",
        "       (comA==\"바위\") and (comB == \"가위\") or \\\n",
        "       (comA==\"보\") and (comB == \"바위\") :\n",
        "      toss.append(\"A\")\n",
        "  else : \n",
        "      toss.append(\"B\")\n",
        "  #print(comA,comB,toss[i])\n",
        "\n",
        "a\\in = toss.count(\"A\")\n",
        "b\\in = toss.count(\"B\")\n",
        "\n",
        "       \n"
      ],
      "metadata": {
        "id": "aoT85calBf1B"
      },
      "execution_count": null,
      "outputs": []
    },
    {
      "cell_type": "code",
      "source": [
        "singer = {}\n",
        "singer['이름'] = '트와이스'\n",
        "singer['구성인수'] = 9\n",
        "singer['데뷰'] = '서바이벌 식스틴'\n",
        "singer['대표곡'] = 'cry for my'\n",
        "\n",
        "for k in singer.keys():\n",
        "  print(k,\"==>\",singer[k])\n"
      ],
      "metadata": {
        "id": "8b5s4jaYM5wq"
      },
      "execution_count": null,
      "outputs": []
    }
  ]
}