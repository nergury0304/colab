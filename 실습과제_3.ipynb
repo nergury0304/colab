{
  "nbformat": 4,
  "nbformat_minor": 0,
  "metadata": {
    "colab": {
      "provenance": [],
      "authorship_tag": "ABX9TyPrKdqpQnMSVW5XyPEwdpe8",
      "include_colab_link": true
    },
    "kernelspec": {
      "name": "python3",
      "display_name": "Python 3"
    },
    "language_info": {
      "name": "python"
    }
  },
  "cells": [
    {
      "cell_type": "markdown",
      "metadata": {
        "id": "view-in-github",
        "colab_type": "text"
      },
      "source": [
        "<a href=\"https://colab.research.google.com/github/nergury0304/colab/blob/main/%EC%8B%A4%EC%8A%B5%EA%B3%BC%EC%A0%9C_3.ipynb\" target=\"_parent\"><img src=\"https://colab.research.google.com/assets/colab-badge.svg\" alt=\"Open In Colab\"/></a>"
      ]
    },
    {
      "cell_type": "code",
      "execution_count": 3,
      "metadata": {
        "colab": {
          "base_uri": "https://localhost:8080/"
        },
        "id": "rcWbum0l7HBZ",
        "outputId": "c4db2834-1757-4402-c3c6-7ecc5950854b"
      },
      "outputs": [
        {
          "output_type": "stream",
          "name": "stdout",
          "text": [
            "문자열 입력 ==> ㅁㄴㅇㅁㄴㅇ\n",
            "문자열 입력 ==> ㅁㄴㅇㅁㄴㅇ\n",
            "두 문자열의 길이차이 0\n"
          ]
        }
      ],
      "source": [
        "text1 = input(\"문자열 입력 ==> \")\n",
        "text2 = input(\"문자열 입력 ==> \")\n",
        "\n",
        "a = len(text1)\n",
        "b = len(text2)\n",
        "\n",
        "print(\"두 문자열의 길이차이\",a-b)"
      ]
    }
  ]
}