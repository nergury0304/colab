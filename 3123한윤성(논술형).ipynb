{
  "nbformat": 4,
  "nbformat_minor": 0,
  "metadata": {
    "colab": {
      "name": "3123한윤성(논술형).ipynb",
      "provenance": [],
      "authorship_tag": "ABX9TyPQAeQEiaSnPQIhseFXQYV7",
      "include_colab_link": true
    },
    "kernelspec": {
      "name": "python3",
      "display_name": "Python 3"
    },
    "language_info": {
      "name": "python"
    }
  },
  "cells": [
    {
      "cell_type": "markdown",
      "metadata": {
        "id": "view-in-github",
        "colab_type": "text"
      },
      "source": [
        "<a href=\"https://colab.research.google.com/github/nergury0304/colab/blob/main/3123%ED%95%9C%EC%9C%A4%EC%84%B1(%EB%85%BC%EC%88%A0%ED%98%95).ipynb\" target=\"_parent\"><img src=\"https://colab.research.google.com/assets/colab-badge.svg\" alt=\"Open In Colab\"/></a>"
      ]
    },
    {
      "cell_type": "markdown",
      "source": [
        "2022학년도 응용프로그레밍 개발 - 논술형 컴퓨터과 3학년 1반 23번 한윤성"
      ],
      "metadata": {
        "id": "hfIkUeQ46pmD"
      }
    },
    {
      "cell_type": "code",
      "execution_count": 7,
      "metadata": {
        "id": "m-d5hEhb6j2M",
        "colab": {
          "base_uri": "https://localhost:8080/"
        },
        "outputId": "15f4ac71-d6f3-45fe-a284-6d9617b6d819"
      },
      "outputs": [
        {
          "output_type": "stream",
          "name": "stdout",
          "text": [
            "숫자1 = 10\n",
            "숫자2 = 30\n",
            "10 + 30 = 40\n",
            "10 - 30 = -20\n",
            "10 * 30 = 300\n",
            "10 / 30 = 0.3333333333333333\n",
            "10 % 30 = 10\n",
            "10 ** 30 = 1000000000000000000000000000000\n",
            "10 // 30 = 0\n"
          ]
        }
      ],
      "source": [
        "num1 = int(input(\"숫자1 = \"))\n",
        "num2 = int(input(\"숫자2 = \"))\n",
        "result1=num1+num2\n",
        "result2=num1-num2\n",
        "result3=num1*num2\n",
        "result4=num1/num2\n",
        "result5=num1%num2\n",
        "result6=num1**num2\n",
        "result7 = num1 // num2\n",
        "print(num1,\"+\",num2,\"=\",result1)\n",
        "print(num1,\"-\",num2,\"=\",result2)\n",
        "print(num1,\"*\",num2,\"=\",result3)\n",
        "print(num1,\"/\",num2,\"=\",result4)\n",
        "print(num1,\"%\",num2,\"=\",result5)\n",
        "print(num1,\"**\",num2,\"=\",result6)\n",
        "print(num1,\"//\",num2,\"=\",result7)"
      ]
    }
  ]
}