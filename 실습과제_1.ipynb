{
  "nbformat": 4,
  "nbformat_minor": 0,
  "metadata": {
    "colab": {
      "provenance": [],
      "authorship_tag": "ABX9TyN4Rk3eVZiyxfv3ac5fdNOU",
      "include_colab_link": true
    },
    "kernelspec": {
      "name": "python3",
      "display_name": "Python 3"
    },
    "language_info": {
      "name": "python"
    }
  },
  "cells": [
    {
      "cell_type": "markdown",
      "metadata": {
        "id": "view-in-github",
        "colab_type": "text"
      },
      "source": [
        "<a href=\"https://colab.research.google.com/github/nergury0304/colab/blob/main/%EC%8B%A4%EC%8A%B5%EA%B3%BC%EC%A0%9C_1.ipynb\" target=\"_parent\"><img src=\"https://colab.research.google.com/assets/colab-badge.svg\" alt=\"Open In Colab\"/></a>"
      ]
    },
    {
      "cell_type": "code",
      "execution_count": null,
      "metadata": {
        "id": "nlfkFLS_uRrn"
      },
      "outputs": [],
      "source": [
        "text =input(\"입력\")\n",
        "index = 0\n",
        "while len(text) >= index :\n",
        "  if text[index].isupper() == True :\n",
        "    text[index] = text[index].lower()\n",
        "  else:\n",
        "    text[index] = text[index].upper()\n",
        "    index = index + 1\n",
        "  print(text)"
      ]
    }
  ]
}