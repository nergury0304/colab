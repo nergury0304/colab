{
  "nbformat": 4,
  "nbformat_minor": 0,
  "metadata": {
    "colab": {
      "provenance": [],
      "authorship_tag": "ABX9TyNDO8vAJKVlpPe+5iNmNVKG",
      "include_colab_link": true
    },
    "kernelspec": {
      "name": "python3",
      "display_name": "Python 3"
    },
    "language_info": {
      "name": "python"
    }
  },
  "cells": [
    {
      "cell_type": "markdown",
      "metadata": {
        "id": "view-in-github",
        "colab_type": "text"
      },
      "source": [
        "<a href=\"https://colab.research.google.com/github/nergury0304/colab/blob/main/lesson6_2.ipynb\" target=\"_parent\"><img src=\"https://colab.research.google.com/assets/colab-badge.svg\" alt=\"Open In Colab\"/></a>"
      ]
    },
    {
      "cell_type": "code",
      "execution_count": null,
      "metadata": {
        "id": "VlQ95WKB-QsN"
      },
      "outputs": [],
      "source": [
        "j=0\n",
        "i=0\n",
        "for i in range(2,10):\n",
        "  for j in range(1,10):\n",
        "    print(i,\"X\",j,\"=\",i*j)\n",
        "  print(\"\")"
      ]
    },
    {
      "cell_type": "code",
      "source": [
        "hap = 0\n",
        "num1,num2 = 0,0\n",
        "\n",
        "while True :\n",
        "  num1=int(input(\"숫자1 ==> \"))\n",
        "  if num1 == \"0\" : break\n",
        "  num2=int(input(\"숫자2 ==> \"))\n",
        "  result = float(num1)+float(num2)\n",
        "  print(num,\"+\",num2,\"=\",result)"
      ],
      "metadata": {
        "id": "oe4G4OC8BAzm"
      },
      "execution_count": null,
      "outputs": []
    },
    {
      "cell_type": "code",
      "source": [
        "import random\n",
        "while True:\n",
        "  r1 = random.randint(1,6)\n",
        "  r2 = random.randint(1.6)\n",
        "  r3 = random.randint(1.6)\n",
        "  count = count+1\n",
        "  if r1==r2==r3 : break\n",
        "print(\"3주사위 모두\",r1)\n",
        "print(\"여기까지\",count,\"회\")\n"
      ],
      "metadata": {
        "id": "fseL3ko_DRVg"
      },
      "execution_count": null,
      "outputs": []
    },
    {
      "cell_type": "code",
      "source": [
        "import random\n",
        "computer,user = 0.0\n",
        "for i in range(1,11):\n",
        "  conputer = random.randint(1,5)\n",
        "  print(\"게임\",i,\"회:\",end='')\n",
        "  user = int(input(\"컴퓨터가 생각한 숫자는?\"))\n",
        "\n",
        "  if computer == user:\n",
        "    print(\"정답\")\n",
        "    break\n",
        "  else:\n",
        "    print(\"틀림 정답은\",computer)\n",
        "    continue\n",
        "print(\"종료\")"
      ],
      "metadata": {
        "id": "oHHVWkdDGhwJ"
      },
      "execution_count": null,
      "outputs": []
    },
    {
      "cell_type": "code",
      "source": [
        "import random\n",
        "com_list=[1,2,3,4,5,6,7,8,9]\n",
        "com_num,usr_num = [],[]\n",
        "\n",
        "def usr_fun():\n",
        "  usr = input(\"3개의 숫자 입력 ==>\")\n",
        "  for i in range(0,5,2):\n",
        "   usr_num.append(int(usr[i]))\n",
        "\n",
        "  for i in range(3):\n",
        "   r=random.choice(com_list)\n",
        "   com_list.remove(r)\n",
        "   com_num.append(r)"
      ],
      "metadata": {
        "id": "ivdbVvtgK2XZ"
      },
      "execution_count": null,
      "outputs": []
    },
    {
      "cell_type": "code",
      "source": [],
      "metadata": {
        "id": "BwBG1o7cMoN3"
      },
      "execution_count": null,
      "outputs": []
    }
  ]
}