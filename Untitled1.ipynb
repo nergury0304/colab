{
  "nbformat": 4,
  "nbformat_minor": 0,
  "metadata": {
    "colab": {
      "name": "Untitled1.ipynb",
      "provenance": [],
      "authorship_tag": "ABX9TyNZ7SaRFDetuP1BjR5fxgOC",
      "include_colab_link": true
    },
    "kernelspec": {
      "name": "python3",
      "display_name": "Python 3"
    },
    "language_info": {
      "name": "python"
    }
  },
  "cells": [
    {
      "cell_type": "markdown",
      "metadata": {
        "id": "view-in-github",
        "colab_type": "text"
      },
      "source": [
        "<a href=\"https://colab.research.google.com/github/nergury0304/colab/blob/main/Untitled1.ipynb\" target=\"_parent\"><img src=\"https://colab.research.google.com/assets/colab-badge.svg\" alt=\"Open In Colab\"/></a>"
      ]
    },
    {
      "cell_type": "code",
      "execution_count": null,
      "metadata": {
        "id": "zq0tr2hBd6mS"
      },
      "outputs": [],
      "source": [
        "a= input(\"문자열 입력\")\n",
        "print(a.upper())\n",
        "print(a.lower())\n",
        "print(a.isupper)\n",
        "print(a.islower)\n",
        "print(a.count(\"ansan\"))"
      ]
    },
    {
      "cell_type": "code",
      "source": [
        "a\"\"\"\n",
        "a = a.upper()\n",
        "count = a.count(\"LET IT BE\")\n",
        "print(count 번)\n",
        " "
      ],
      "metadata": {
        "id": "IPXEuuAPiQwL"
      },
      "execution_count": null,
      "outputs": []
    },
    {
      "cell_type": "code",
      "source": [
        "a=[\"안산공고\",\"컴퓨터과\",3,1,2022]\n",
        "#print(a)\n",
        "print(a[4])"
      ],
      "metadata": {
        "colab": {
          "base_uri": "https://localhost:8080/"
        },
        "id": "wywgD33okbNT",
        "outputId": "b0e03587-c894-4d74-d290-05c92a7e4414"
      },
      "execution_count": 6,
      "outputs": [
        {
          "output_type": "stream",
          "name": "stdout",
          "text": [
            "2022\n"
          ]
        }
      ]
    },
    {
      "cell_type": "code",
      "source": [
        "a = \"안산공고\"\n",
        "print(a)\n",
        "print(a[0:2])"
      ],
      "metadata": {
        "colab": {
          "base_uri": "https://localhost:8080/"
        },
        "id": "qk6JQc2hmuo9",
        "outputId": "c6a308a9-de46-431b-9670-eaa5c572c593"
      },
      "execution_count": 8,
      "outputs": [
        {
          "output_type": "stream",
          "name": "stdout",
          "text": [
            "안산공고\n",
            "안산\n"
          ]
        }
      ]
    },
    {
      "cell_type": "code",
      "source": [
        "while True : \n",
        "  a= input(\"문자\")\n",
        "  if a == \"q\" :\n",
        "    Brake\n",
        "  print(a)"
      ],
      "metadata": {
        "id": "0Yhz9y7vnzkQ"
      },
      "execution_count": null,
      "outputs": []
    },
    {
      "cell_type": "code",
      "source": [
        "a=input(\"입력\")\n",
        "a_len = len(a)\n",
        "while a_len > 0 :\n",
        "  print(a[a_len-1])\n",
        "  a_len = a_len -1"
      ],
      "metadata": {
        "id": "HyhhZ4uTsQrX"
      },
      "execution_count": null,
      "outputs": []
    },
    {
      "cell_type": "code",
      "source": [
        "a=input(\"입력\")\n",
        "index = 0\n",
        "while len(a) >= index :\n",
        "  if a[index].isupper() == True :\n",
        "    a[index] = a[index].lower()\n",
        "    else\n",
        "     a[index] = a[index].upper()\n",
        "    index = index + 1\n",
        "print(a)\n",
        "\n",
        "\n"
      ],
      "metadata": {
        "id": "ugsUByiZtyYY"
      },
      "execution_count": null,
      "outputs": []
    }
  ]
}